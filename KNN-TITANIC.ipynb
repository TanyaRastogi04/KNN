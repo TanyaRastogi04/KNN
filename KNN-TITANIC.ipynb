{
 "cells": [
  {
   "cell_type": "markdown",
   "id": "6b69e94e",
   "metadata": {},
   "source": [
    "## ABOUT TITANIC\n",
    "\n",
    "RMS Titanic, during her maiden voyage on april 15, 1912, sank after colliding with an iceberg,killing 1502 out of 2224 passengers and crew. The tragedy is considered one of the most infamous shipwrecks in history and led to better safety guidelines for ships."
   ]
  },
  {
   "cell_type": "markdown",
   "id": "c7ebd5dd",
   "metadata": {},
   "source": [
    "#### I have approached the project through the following process:\n",
    "    \n",
    "    1. Understand different features in the training dataset.\n",
    "    2. Clean the features.\n",
    "    3. Remove outliers.\n",
    "    4. Find relation between different features and survival\n",
    "    5. Find the best features using SelectKBest ( to get an optimal fit between bias and variance)\n",
    "    6. Train and fit the model\n",
    "    7. predict the scores using KNearestNeighbors\n",
    "    8. Check accuracy \n",
    "    9. predict survival values for test csv.\n",
    "    10. create final file for submission.\n",
    "    "
   ]
  },
  {
   "cell_type": "code",
   "execution_count": 192,
   "id": "5fdc11ec",
   "metadata": {},
   "outputs": [],
   "source": [
    "# importing related python libraries\n",
    "\n",
    "import numpy as np\n",
    "import pandas as pd\n",
    "import matplotlib.pyplot as plt\n",
    "%matplotlib inline\n",
    "import seaborn as sns\n",
    "import csv\n",
    "\n",
    "\n",
    "#importing sklearn classifiers and libraries\n",
    "\n",
    "from sklearn.preprocessing import MinMaxScaler #normalization\n",
    "from sklearn.feature_selection import SelectKBest, f_classif\n",
    "from sklearn import preprocessing\n",
    "from sklearn.model_selection import train_test_split\n",
    "from sklearn.neighbors import NearestNeighbors\n",
    "from sklearn.neighbors import KNeighborsClassifier\n",
    "from sklearn import metrics\n",
    "from sklearn.metrics import accuracy_score\n",
    "from sklearn.metrics import precision_recall_fscore_support\n",
    "from sklearn.model_selection import cross_val_score\n",
    "from sklearn.model_selection import KFold\n",
    "from sklearn.model_selection import GridSearchCV"
   ]
  },
  {
   "cell_type": "code",
   "execution_count": 193,
   "id": "f5e42af4",
   "metadata": {},
   "outputs": [],
   "source": [
    "df = pd.read_csv(\"train.csv\")"
   ]
  },
  {
   "cell_type": "markdown",
   "id": "dac89890",
   "metadata": {},
   "source": [
    "## 1. Understand different features in dataset\n",
    "\n",
    "the training dataset imported as pandas dataframe has 891 rows and 12 columns/features with some of the details mentioned below:"
   ]
  },
  {
   "cell_type": "code",
   "execution_count": 194,
   "id": "f2d13780",
   "metadata": {},
   "outputs": [
    {
     "data": {
      "text/html": [
       "<div>\n",
       "<style scoped>\n",
       "    .dataframe tbody tr th:only-of-type {\n",
       "        vertical-align: middle;\n",
       "    }\n",
       "\n",
       "    .dataframe tbody tr th {\n",
       "        vertical-align: top;\n",
       "    }\n",
       "\n",
       "    .dataframe thead th {\n",
       "        text-align: right;\n",
       "    }\n",
       "</style>\n",
       "<table border=\"1\" class=\"dataframe\">\n",
       "  <thead>\n",
       "    <tr style=\"text-align: right;\">\n",
       "      <th></th>\n",
       "      <th>PassengerId</th>\n",
       "      <th>Survived</th>\n",
       "      <th>Pclass</th>\n",
       "      <th>Name</th>\n",
       "      <th>Sex</th>\n",
       "      <th>Age</th>\n",
       "      <th>SibSp</th>\n",
       "      <th>Parch</th>\n",
       "      <th>Ticket</th>\n",
       "      <th>Fare</th>\n",
       "      <th>Cabin</th>\n",
       "      <th>Embarked</th>\n",
       "    </tr>\n",
       "  </thead>\n",
       "  <tbody>\n",
       "    <tr>\n",
       "      <th>0</th>\n",
       "      <td>1</td>\n",
       "      <td>0</td>\n",
       "      <td>3</td>\n",
       "      <td>Braund, Mr. Owen Harris</td>\n",
       "      <td>male</td>\n",
       "      <td>22.0</td>\n",
       "      <td>1</td>\n",
       "      <td>0</td>\n",
       "      <td>A/5 21171</td>\n",
       "      <td>7.2500</td>\n",
       "      <td>NaN</td>\n",
       "      <td>S</td>\n",
       "    </tr>\n",
       "    <tr>\n",
       "      <th>1</th>\n",
       "      <td>2</td>\n",
       "      <td>1</td>\n",
       "      <td>1</td>\n",
       "      <td>Cumings, Mrs. John Bradley (Florence Briggs Th...</td>\n",
       "      <td>female</td>\n",
       "      <td>38.0</td>\n",
       "      <td>1</td>\n",
       "      <td>0</td>\n",
       "      <td>PC 17599</td>\n",
       "      <td>71.2833</td>\n",
       "      <td>C85</td>\n",
       "      <td>C</td>\n",
       "    </tr>\n",
       "    <tr>\n",
       "      <th>2</th>\n",
       "      <td>3</td>\n",
       "      <td>1</td>\n",
       "      <td>3</td>\n",
       "      <td>Heikkinen, Miss. Laina</td>\n",
       "      <td>female</td>\n",
       "      <td>26.0</td>\n",
       "      <td>0</td>\n",
       "      <td>0</td>\n",
       "      <td>STON/O2. 3101282</td>\n",
       "      <td>7.9250</td>\n",
       "      <td>NaN</td>\n",
       "      <td>S</td>\n",
       "    </tr>\n",
       "    <tr>\n",
       "      <th>3</th>\n",
       "      <td>4</td>\n",
       "      <td>1</td>\n",
       "      <td>1</td>\n",
       "      <td>Futrelle, Mrs. Jacques Heath (Lily May Peel)</td>\n",
       "      <td>female</td>\n",
       "      <td>35.0</td>\n",
       "      <td>1</td>\n",
       "      <td>0</td>\n",
       "      <td>113803</td>\n",
       "      <td>53.1000</td>\n",
       "      <td>C123</td>\n",
       "      <td>S</td>\n",
       "    </tr>\n",
       "    <tr>\n",
       "      <th>4</th>\n",
       "      <td>5</td>\n",
       "      <td>0</td>\n",
       "      <td>3</td>\n",
       "      <td>Allen, Mr. William Henry</td>\n",
       "      <td>male</td>\n",
       "      <td>35.0</td>\n",
       "      <td>0</td>\n",
       "      <td>0</td>\n",
       "      <td>373450</td>\n",
       "      <td>8.0500</td>\n",
       "      <td>NaN</td>\n",
       "      <td>S</td>\n",
       "    </tr>\n",
       "  </tbody>\n",
       "</table>\n",
       "</div>"
      ],
      "text/plain": [
       "   PassengerId  Survived  Pclass  ...     Fare Cabin  Embarked\n",
       "0            1         0       3  ...   7.2500   NaN         S\n",
       "1            2         1       1  ...  71.2833   C85         C\n",
       "2            3         1       3  ...   7.9250   NaN         S\n",
       "3            4         1       1  ...  53.1000  C123         S\n",
       "4            5         0       3  ...   8.0500   NaN         S\n",
       "\n",
       "[5 rows x 12 columns]"
      ]
     },
     "execution_count": 194,
     "metadata": {},
     "output_type": "execute_result"
    }
   ],
   "source": [
    "df.head() #port of Embarkation (C- Cherbourg,Q - Queenstown, S - Southampton)"
   ]
  },
  {
   "cell_type": "code",
   "execution_count": 195,
   "id": "d40727e1",
   "metadata": {},
   "outputs": [
    {
     "data": {
      "text/plain": [
       "(891, 12)"
      ]
     },
     "execution_count": 195,
     "metadata": {},
     "output_type": "execute_result"
    }
   ],
   "source": [
    "df.shape"
   ]
  },
  {
   "cell_type": "code",
   "execution_count": 196,
   "id": "07995d46",
   "metadata": {},
   "outputs": [],
   "source": [
    "import pandas as pd \n",
    "#from pandas_profiling import ProfileReport"
   ]
  },
  {
   "cell_type": "code",
   "execution_count": 197,
   "id": "649854ca",
   "metadata": {},
   "outputs": [],
   "source": [
    "#profile = ProfileReport(df)"
   ]
  },
  {
   "cell_type": "code",
   "execution_count": 198,
   "id": "36bc348e",
   "metadata": {},
   "outputs": [],
   "source": [
    "#profile.to_widgets()\n",
    "#profile.to_file(\"titanicreport\")"
   ]
  },
  {
   "cell_type": "code",
   "execution_count": 199,
   "id": "ec73e990",
   "metadata": {},
   "outputs": [
    {
     "data": {
      "text/plain": [
       "PassengerId      int64\n",
       "Survived         int64\n",
       "Pclass           int64\n",
       "Name            object\n",
       "Sex             object\n",
       "Age            float64\n",
       "SibSp            int64\n",
       "Parch            int64\n",
       "Ticket          object\n",
       "Fare           float64\n",
       "Cabin           object\n",
       "Embarked        object\n",
       "dtype: object"
      ]
     },
     "execution_count": 199,
     "metadata": {},
     "output_type": "execute_result"
    }
   ],
   "source": [
    "df.dtypes"
   ]
  },
  {
   "cell_type": "code",
   "execution_count": 200,
   "id": "27863dfb",
   "metadata": {},
   "outputs": [],
   "source": [
    "from pandas_profiling import ProfileReport"
   ]
  },
  {
   "cell_type": "code",
   "execution_count": 201,
   "id": "4d002b40",
   "metadata": {},
   "outputs": [],
   "source": [
    "profile = ProfileReport(df)"
   ]
  },
  {
   "cell_type": "code",
   "execution_count": 202,
   "id": "5b4c1271",
   "metadata": {},
   "outputs": [],
   "source": [
    "#profile.to_widgets()\n",
    "#profile.to_file(\"titanicreport\")"
   ]
  },
  {
   "cell_type": "markdown",
   "id": "1f49ed19",
   "metadata": {},
   "source": [
    "## 2.CLEAN THE FEATURES"
   ]
  },
  {
   "cell_type": "markdown",
   "id": "0da0349d",
   "metadata": {},
   "source": [
    "I am not interested in the following features as I believe there is no logical reason,why the passenger will survive or not"
   ]
  },
  {
   "cell_type": "markdown",
   "id": "fffe89d2",
   "metadata": {},
   "source": [
    "1. name\n",
    "2. ticket\n",
    "3. fare\n",
    "4. cabin\n"
   ]
  },
  {
   "cell_type": "markdown",
   "id": "5dfdd78f",
   "metadata": {},
   "source": [
    "Further,in case , i find correlation between them. I believe it will not be causation (ticket,fare,cabin can be highly correlated to passenger class).\n",
    "\n",
    "\n",
    "therefore, i have dropped the above-mentioned features from the training dataset."
   ]
  },
  {
   "cell_type": "code",
   "execution_count": 203,
   "id": "92e9843e",
   "metadata": {},
   "outputs": [],
   "source": [
    "df = df.drop('Name',axis = 1,)\n",
    "df = df.drop('Ticket',axis = 1,)\n",
    "df = df.drop('Fare',axis = 1,)\n",
    "df = df.drop('Cabin',axis = 1,)"
   ]
  },
  {
   "cell_type": "code",
   "execution_count": 204,
   "id": "82c51b03",
   "metadata": {},
   "outputs": [
    {
     "data": {
      "text/plain": [
       "PassengerId      int64\n",
       "Survived         int64\n",
       "Pclass           int64\n",
       "Sex             object\n",
       "Age            float64\n",
       "SibSp            int64\n",
       "Parch            int64\n",
       "Embarked        object\n",
       "dtype: object"
      ]
     },
     "execution_count": 204,
     "metadata": {},
     "output_type": "execute_result"
    }
   ],
   "source": [
    "df.dtypes"
   ]
  },
  {
   "cell_type": "markdown",
   "id": "b6338313",
   "metadata": {},
   "source": [
    "I have reated another column or feature for number of people in the family by adding SibSp,Parch and 1(for the passenger).\n",
    "\n",
    "further i have dropped the SibSp and Parch features."
   ]
  },
  {
   "cell_type": "code",
   "execution_count": 205,
   "id": "cb91daf1",
   "metadata": {},
   "outputs": [],
   "source": [
    "df['Family'] = df['SibSp'] + df['Parch'] + 1"
   ]
  },
  {
   "cell_type": "code",
   "execution_count": 206,
   "id": "617ae4dd",
   "metadata": {},
   "outputs": [
    {
     "data": {
      "text/html": [
       "<div>\n",
       "<style scoped>\n",
       "    .dataframe tbody tr th:only-of-type {\n",
       "        vertical-align: middle;\n",
       "    }\n",
       "\n",
       "    .dataframe tbody tr th {\n",
       "        vertical-align: top;\n",
       "    }\n",
       "\n",
       "    .dataframe thead th {\n",
       "        text-align: right;\n",
       "    }\n",
       "</style>\n",
       "<table border=\"1\" class=\"dataframe\">\n",
       "  <thead>\n",
       "    <tr style=\"text-align: right;\">\n",
       "      <th></th>\n",
       "      <th>PassengerId</th>\n",
       "      <th>Survived</th>\n",
       "      <th>Pclass</th>\n",
       "      <th>Sex</th>\n",
       "      <th>Age</th>\n",
       "      <th>SibSp</th>\n",
       "      <th>Parch</th>\n",
       "      <th>Embarked</th>\n",
       "      <th>Family</th>\n",
       "    </tr>\n",
       "  </thead>\n",
       "  <tbody>\n",
       "    <tr>\n",
       "      <th>0</th>\n",
       "      <td>1</td>\n",
       "      <td>0</td>\n",
       "      <td>3</td>\n",
       "      <td>male</td>\n",
       "      <td>22.0</td>\n",
       "      <td>1</td>\n",
       "      <td>0</td>\n",
       "      <td>S</td>\n",
       "      <td>2</td>\n",
       "    </tr>\n",
       "    <tr>\n",
       "      <th>1</th>\n",
       "      <td>2</td>\n",
       "      <td>1</td>\n",
       "      <td>1</td>\n",
       "      <td>female</td>\n",
       "      <td>38.0</td>\n",
       "      <td>1</td>\n",
       "      <td>0</td>\n",
       "      <td>C</td>\n",
       "      <td>2</td>\n",
       "    </tr>\n",
       "    <tr>\n",
       "      <th>2</th>\n",
       "      <td>3</td>\n",
       "      <td>1</td>\n",
       "      <td>3</td>\n",
       "      <td>female</td>\n",
       "      <td>26.0</td>\n",
       "      <td>0</td>\n",
       "      <td>0</td>\n",
       "      <td>S</td>\n",
       "      <td>1</td>\n",
       "    </tr>\n",
       "    <tr>\n",
       "      <th>3</th>\n",
       "      <td>4</td>\n",
       "      <td>1</td>\n",
       "      <td>1</td>\n",
       "      <td>female</td>\n",
       "      <td>35.0</td>\n",
       "      <td>1</td>\n",
       "      <td>0</td>\n",
       "      <td>S</td>\n",
       "      <td>2</td>\n",
       "    </tr>\n",
       "    <tr>\n",
       "      <th>4</th>\n",
       "      <td>5</td>\n",
       "      <td>0</td>\n",
       "      <td>3</td>\n",
       "      <td>male</td>\n",
       "      <td>35.0</td>\n",
       "      <td>0</td>\n",
       "      <td>0</td>\n",
       "      <td>S</td>\n",
       "      <td>1</td>\n",
       "    </tr>\n",
       "    <tr>\n",
       "      <th>...</th>\n",
       "      <td>...</td>\n",
       "      <td>...</td>\n",
       "      <td>...</td>\n",
       "      <td>...</td>\n",
       "      <td>...</td>\n",
       "      <td>...</td>\n",
       "      <td>...</td>\n",
       "      <td>...</td>\n",
       "      <td>...</td>\n",
       "    </tr>\n",
       "    <tr>\n",
       "      <th>886</th>\n",
       "      <td>887</td>\n",
       "      <td>0</td>\n",
       "      <td>2</td>\n",
       "      <td>male</td>\n",
       "      <td>27.0</td>\n",
       "      <td>0</td>\n",
       "      <td>0</td>\n",
       "      <td>S</td>\n",
       "      <td>1</td>\n",
       "    </tr>\n",
       "    <tr>\n",
       "      <th>887</th>\n",
       "      <td>888</td>\n",
       "      <td>1</td>\n",
       "      <td>1</td>\n",
       "      <td>female</td>\n",
       "      <td>19.0</td>\n",
       "      <td>0</td>\n",
       "      <td>0</td>\n",
       "      <td>S</td>\n",
       "      <td>1</td>\n",
       "    </tr>\n",
       "    <tr>\n",
       "      <th>888</th>\n",
       "      <td>889</td>\n",
       "      <td>0</td>\n",
       "      <td>3</td>\n",
       "      <td>female</td>\n",
       "      <td>NaN</td>\n",
       "      <td>1</td>\n",
       "      <td>2</td>\n",
       "      <td>S</td>\n",
       "      <td>4</td>\n",
       "    </tr>\n",
       "    <tr>\n",
       "      <th>889</th>\n",
       "      <td>890</td>\n",
       "      <td>1</td>\n",
       "      <td>1</td>\n",
       "      <td>male</td>\n",
       "      <td>26.0</td>\n",
       "      <td>0</td>\n",
       "      <td>0</td>\n",
       "      <td>C</td>\n",
       "      <td>1</td>\n",
       "    </tr>\n",
       "    <tr>\n",
       "      <th>890</th>\n",
       "      <td>891</td>\n",
       "      <td>0</td>\n",
       "      <td>3</td>\n",
       "      <td>male</td>\n",
       "      <td>32.0</td>\n",
       "      <td>0</td>\n",
       "      <td>0</td>\n",
       "      <td>Q</td>\n",
       "      <td>1</td>\n",
       "    </tr>\n",
       "  </tbody>\n",
       "</table>\n",
       "<p>891 rows × 9 columns</p>\n",
       "</div>"
      ],
      "text/plain": [
       "     PassengerId  Survived  Pclass     Sex   Age  SibSp  Parch Embarked  Family\n",
       "0              1         0       3    male  22.0      1      0        S       2\n",
       "1              2         1       1  female  38.0      1      0        C       2\n",
       "2              3         1       3  female  26.0      0      0        S       1\n",
       "3              4         1       1  female  35.0      1      0        S       2\n",
       "4              5         0       3    male  35.0      0      0        S       1\n",
       "..           ...       ...     ...     ...   ...    ...    ...      ...     ...\n",
       "886          887         0       2    male  27.0      0      0        S       1\n",
       "887          888         1       1  female  19.0      0      0        S       1\n",
       "888          889         0       3  female   NaN      1      2        S       4\n",
       "889          890         1       1    male  26.0      0      0        C       1\n",
       "890          891         0       3    male  32.0      0      0        Q       1\n",
       "\n",
       "[891 rows x 9 columns]"
      ]
     },
     "execution_count": 206,
     "metadata": {},
     "output_type": "execute_result"
    }
   ],
   "source": [
    "df"
   ]
  },
  {
   "cell_type": "code",
   "execution_count": 207,
   "id": "e298465b",
   "metadata": {},
   "outputs": [],
   "source": [
    "df = df.drop('SibSp',axis = 1,)\n",
    "df = df.drop('Parch',axis = 1,)"
   ]
  },
  {
   "cell_type": "markdown",
   "id": "868f654e",
   "metadata": {},
   "source": [
    "I also want to check a hypothesis that while saving passengers minors were given priority over adults.\n",
    "\n",
    "Therefore,I would be creating a new column to differentiate minors from adults. However, I will first check the age statistics of passengers."
   ]
  },
  {
   "cell_type": "code",
   "execution_count": 208,
   "id": "b4d4d7ff",
   "metadata": {},
   "outputs": [
    {
     "data": {
      "text/plain": [
       "count    714.000000\n",
       "mean      29.699118\n",
       "std       14.526497\n",
       "min        0.420000\n",
       "25%       20.125000\n",
       "50%       28.000000\n",
       "75%       38.000000\n",
       "max       80.000000\n",
       "Name: Age, dtype: float64"
      ]
     },
     "execution_count": 208,
     "metadata": {},
     "output_type": "execute_result"
    }
   ],
   "source": [
    "df['Age'].describe()"
   ]
  },
  {
   "cell_type": "markdown",
   "id": "745c8344",
   "metadata": {},
   "source": [
    "since column age contains several Nan values,I will first clear those values in next section and then create the new column"
   ]
  },
  {
   "cell_type": "markdown",
   "id": "b9138940",
   "metadata": {},
   "source": [
    "## 3. Remove Outliers"
   ]
  },
  {
   "cell_type": "markdown",
   "id": "43b41eb3",
   "metadata": {},
   "source": [
    "Now i want to check which features have how many Nan cells."
   ]
  },
  {
   "cell_type": "code",
   "execution_count": 209,
   "id": "8aba55a6",
   "metadata": {},
   "outputs": [
    {
     "name": "stdout",
     "output_type": "stream",
     "text": [
      "PassengerId :  0\n",
      "Survived :  0\n",
      "Pclass :  0\n",
      "Sex :  0\n",
      "Age :  177\n",
      "Embarked :  2\n",
      "Family :  0\n"
     ]
    }
   ],
   "source": [
    "feature_list = list(df.columns.values)\n",
    "\n",
    "for feature in feature_list:\n",
    "    print(feature,\": \",sum(pd.isnull(df[feature])))\n",
    "    \n",
    "    "
   ]
  },
  {
   "cell_type": "markdown",
   "id": "443865cd",
   "metadata": {},
   "source": [
    "We have 177 Nan in Age and 2 in Embarked"
   ]
  },
  {
   "cell_type": "markdown",
   "id": "d5479f78",
   "metadata": {},
   "source": [
    "1. for Age, I have filled NaN with median age\n",
    "\n",
    "2. for Embarked, I have filled NaN with port of Embarkation with Maximum Frequency"
   ]
  },
  {
   "cell_type": "code",
   "execution_count": 210,
   "id": "97db8e74",
   "metadata": {},
   "outputs": [],
   "source": [
    "df['Age'] = df['Age'].fillna(df['Age'].median())"
   ]
  },
  {
   "cell_type": "code",
   "execution_count": 211,
   "id": "a3e28b7b",
   "metadata": {},
   "outputs": [
    {
     "data": {
      "text/plain": [
       "0    S\n",
       "Name: Embarked, dtype: object"
      ]
     },
     "execution_count": 211,
     "metadata": {},
     "output_type": "execute_result"
    }
   ],
   "source": [
    "df['Embarked'].mode()"
   ]
  },
  {
   "cell_type": "code",
   "execution_count": 212,
   "id": "133a17e4",
   "metadata": {},
   "outputs": [],
   "source": [
    "df['Embarked'] = df['Embarked'].fillna('S')"
   ]
  },
  {
   "cell_type": "code",
   "execution_count": 213,
   "id": "6eda8433",
   "metadata": {},
   "outputs": [
    {
     "name": "stdout",
     "output_type": "stream",
     "text": [
      "PassengerId :  0\n",
      "Survived :  0\n",
      "Pclass :  0\n",
      "Sex :  0\n",
      "Age :  0\n",
      "Embarked :  0\n",
      "Family :  0\n"
     ]
    }
   ],
   "source": [
    "#re-checking NaNs\n",
    "\n",
    "feature_list = list(df.columns.values)\n",
    "\n",
    "for feature in feature_list:\n",
    "    print(feature,\": \",sum(pd.isnull(df[feature])))\n",
    "    \n",
    "    "
   ]
  },
  {
   "cell_type": "code",
   "execution_count": 214,
   "id": "40fed018",
   "metadata": {},
   "outputs": [
    {
     "data": {
      "text/plain": [
       "count    891.000000\n",
       "mean      29.361582\n",
       "std       13.019697\n",
       "min        0.420000\n",
       "25%       22.000000\n",
       "50%       28.000000\n",
       "75%       35.000000\n",
       "max       80.000000\n",
       "Name: Age, dtype: float64"
      ]
     },
     "execution_count": 214,
     "metadata": {},
     "output_type": "execute_result"
    }
   ],
   "source": [
    "# checking statistics of Age column\n",
    "\n",
    "df['Age'].describe()"
   ]
  },
  {
   "cell_type": "markdown",
   "id": "f77a97ff",
   "metadata": {},
   "source": [
    "As discussed below, I have categorized the  Age featurew into following 2 categories:\n",
    "    \n",
    "    1. Passenger who were minors(0)\n",
    "    2. Passenger who were adults(1)\n",
    "    \n",
    "I have created a new column named Adult and assigned value 1 to passengers who are 18 yrs old and above, 0 to passengers who were minors.\n",
    "\n",
    "This is done to check the hypothesis that more minors survived than the adults."
   ]
  },
  {
   "cell_type": "code",
   "execution_count": 215,
   "id": "e9ff1acd",
   "metadata": {},
   "outputs": [],
   "source": [
    "df['Adult'] = 0"
   ]
  },
  {
   "cell_type": "code",
   "execution_count": 216,
   "id": "7624f33f",
   "metadata": {},
   "outputs": [
    {
     "name": "stderr",
     "output_type": "stream",
     "text": [
      "C:\\Users\\gandh\\AppData\\Local\\Temp\\ipykernel_13960\\1944308921.py:1: SettingWithCopyWarning: \n",
      "A value is trying to be set on a copy of a slice from a DataFrame\n",
      "\n",
      "See the caveats in the documentation: https://pandas.pydata.org/pandas-docs/stable/user_guide/indexing.html#returning-a-view-versus-a-copy\n",
      "  df['Adult'] [df['Age']>=18] = 1\n"
     ]
    }
   ],
   "source": [
    "df['Adult'] [df['Age']>=18] = 1"
   ]
  },
  {
   "cell_type": "code",
   "execution_count": 217,
   "id": "99de54ed",
   "metadata": {},
   "outputs": [
    {
     "name": "stdout",
     "output_type": "stream",
     "text": [
      "Passengers more than 18 years old:  891\n",
      "Number of Adults:  778\n"
     ]
    }
   ],
   "source": [
    "#performing a sanitory check to confirm \n",
    "\n",
    "## number of passengers withb age>=18 - Age column\n",
    "\n",
    "print(\"Passengers more than 18 years old: \",str(len(df['Age']>=18)))\n",
    "\n",
    "# nbumber of adult passsengers - Adult column\n",
    "\n",
    "print(\"Number of Adults: \",str(len(df[df['Adult']>=1])))"
   ]
  },
  {
   "cell_type": "code",
   "execution_count": 218,
   "id": "51bfd014",
   "metadata": {},
   "outputs": [],
   "source": [
    "## dropping the age column\n",
    "\n",
    "df = df.drop('Age',axis =1)"
   ]
  },
  {
   "cell_type": "code",
   "execution_count": 219,
   "id": "fb1ec4ac",
   "metadata": {},
   "outputs": [
    {
     "data": {
      "text/html": [
       "<div>\n",
       "<style scoped>\n",
       "    .dataframe tbody tr th:only-of-type {\n",
       "        vertical-align: middle;\n",
       "    }\n",
       "\n",
       "    .dataframe tbody tr th {\n",
       "        vertical-align: top;\n",
       "    }\n",
       "\n",
       "    .dataframe thead th {\n",
       "        text-align: right;\n",
       "    }\n",
       "</style>\n",
       "<table border=\"1\" class=\"dataframe\">\n",
       "  <thead>\n",
       "    <tr style=\"text-align: right;\">\n",
       "      <th></th>\n",
       "      <th>PassengerId</th>\n",
       "      <th>Survived</th>\n",
       "      <th>Pclass</th>\n",
       "      <th>Sex</th>\n",
       "      <th>Embarked</th>\n",
       "      <th>Family</th>\n",
       "      <th>Adult</th>\n",
       "    </tr>\n",
       "  </thead>\n",
       "  <tbody>\n",
       "    <tr>\n",
       "      <th>0</th>\n",
       "      <td>1</td>\n",
       "      <td>0</td>\n",
       "      <td>3</td>\n",
       "      <td>male</td>\n",
       "      <td>S</td>\n",
       "      <td>2</td>\n",
       "      <td>1</td>\n",
       "    </tr>\n",
       "    <tr>\n",
       "      <th>1</th>\n",
       "      <td>2</td>\n",
       "      <td>1</td>\n",
       "      <td>1</td>\n",
       "      <td>female</td>\n",
       "      <td>C</td>\n",
       "      <td>2</td>\n",
       "      <td>1</td>\n",
       "    </tr>\n",
       "    <tr>\n",
       "      <th>2</th>\n",
       "      <td>3</td>\n",
       "      <td>1</td>\n",
       "      <td>3</td>\n",
       "      <td>female</td>\n",
       "      <td>S</td>\n",
       "      <td>1</td>\n",
       "      <td>1</td>\n",
       "    </tr>\n",
       "    <tr>\n",
       "      <th>3</th>\n",
       "      <td>4</td>\n",
       "      <td>1</td>\n",
       "      <td>1</td>\n",
       "      <td>female</td>\n",
       "      <td>S</td>\n",
       "      <td>2</td>\n",
       "      <td>1</td>\n",
       "    </tr>\n",
       "    <tr>\n",
       "      <th>4</th>\n",
       "      <td>5</td>\n",
       "      <td>0</td>\n",
       "      <td>3</td>\n",
       "      <td>male</td>\n",
       "      <td>S</td>\n",
       "      <td>1</td>\n",
       "      <td>1</td>\n",
       "    </tr>\n",
       "  </tbody>\n",
       "</table>\n",
       "</div>"
      ],
      "text/plain": [
       "   PassengerId  Survived  Pclass     Sex Embarked  Family  Adult\n",
       "0            1         0       3    male        S       2      1\n",
       "1            2         1       1  female        C       2      1\n",
       "2            3         1       3  female        S       1      1\n",
       "3            4         1       1  female        S       2      1\n",
       "4            5         0       3    male        S       1      1"
      ]
     },
     "execution_count": 219,
     "metadata": {},
     "output_type": "execute_result"
    }
   ],
   "source": [
    "df.head()"
   ]
  },
  {
   "cell_type": "markdown",
   "id": "26c999ed",
   "metadata": {},
   "source": [
    "## 4. Find relationship among different features and survival"
   ]
  },
  {
   "cell_type": "markdown",
   "id": "5a2384e6",
   "metadata": {},
   "source": [
    "In order to find relation between any two features. I have used pivot tables. I have used a function to save myself from code redundancy."
   ]
  },
  {
   "cell_type": "code",
   "execution_count": 220,
   "id": "9ea6af77",
   "metadata": {},
   "outputs": [],
   "source": [
    "## I have created a function , which gives two parameters,\n",
    "\n",
    "### creates a pivot table and a bar chart to show their relationship\n",
    "\n",
    "def make_pivot (param1,param2):\n",
    "    df_slice = df[[param1,param2,'PassengerId']]\n",
    "    slice_pivot = df_slice.pivot_table(index = [param1],columns = [param2],aggfunc = np.size, fill_value = 0)\n",
    "    \n",
    "    p_chart = slice_pivot.plot.bar()\n",
    "    for p in p_chart.patches:\n",
    "        p_chart.annotate(str(p.get_height()),(p.get_x()*1.05,p.get_height()*1.01))\n",
    "    return slice_pivot\n",
    "    return p_chart\n",
    "    "
   ]
  },
  {
   "cell_type": "markdown",
   "id": "f7f26d42",
   "metadata": {},
   "source": [
    "#### relation between survival and passenger class"
   ]
  },
  {
   "cell_type": "code",
   "execution_count": 221,
   "id": "ccbd12c1",
   "metadata": {},
   "outputs": [
    {
     "data": {
      "text/html": [
       "<div>\n",
       "<style scoped>\n",
       "    .dataframe tbody tr th:only-of-type {\n",
       "        vertical-align: middle;\n",
       "    }\n",
       "\n",
       "    .dataframe tbody tr th {\n",
       "        vertical-align: top;\n",
       "    }\n",
       "\n",
       "    .dataframe thead tr th {\n",
       "        text-align: left;\n",
       "    }\n",
       "\n",
       "    .dataframe thead tr:last-of-type th {\n",
       "        text-align: right;\n",
       "    }\n",
       "</style>\n",
       "<table border=\"1\" class=\"dataframe\">\n",
       "  <thead>\n",
       "    <tr>\n",
       "      <th></th>\n",
       "      <th colspan=\"3\" halign=\"left\">PassengerId</th>\n",
       "    </tr>\n",
       "    <tr>\n",
       "      <th>Pclass</th>\n",
       "      <th>1</th>\n",
       "      <th>2</th>\n",
       "      <th>3</th>\n",
       "    </tr>\n",
       "    <tr>\n",
       "      <th>Survived</th>\n",
       "      <th></th>\n",
       "      <th></th>\n",
       "      <th></th>\n",
       "    </tr>\n",
       "  </thead>\n",
       "  <tbody>\n",
       "    <tr>\n",
       "      <th>0</th>\n",
       "      <td>80</td>\n",
       "      <td>97</td>\n",
       "      <td>372</td>\n",
       "    </tr>\n",
       "    <tr>\n",
       "      <th>1</th>\n",
       "      <td>136</td>\n",
       "      <td>87</td>\n",
       "      <td>119</td>\n",
       "    </tr>\n",
       "  </tbody>\n",
       "</table>\n",
       "</div>"
      ],
      "text/plain": [
       "         PassengerId         \n",
       "Pclass             1   2    3\n",
       "Survived                     \n",
       "0                 80  97  372\n",
       "1                136  87  119"
      ]
     },
     "execution_count": 221,
     "metadata": {},
     "output_type": "execute_result"
    },
    {
     "data": {
      "image/png": "[encoded data removed]",
      "text/plain": [
       "<Figure size 640x480 with 1 Axes>"
      ]
     },
     "metadata": {},
     "output_type": "display_data"
    }
   ],
   "source": [
    "make_pivot(\"Survived\",\"Pclass\")"
   ]
  },
  {
   "cell_type": "markdown",
   "id": "9507376c",
   "metadata": {},
   "source": [
    "### Relation between Survived and Passenger Sex"
   ]
  },
  {
   "cell_type": "code",
   "execution_count": 222,
   "id": "eff21998",
   "metadata": {},
   "outputs": [
    {
     "data": {
      "text/html": [
       "<div>\n",
       "<style scoped>\n",
       "    .dataframe tbody tr th:only-of-type {\n",
       "        vertical-align: middle;\n",
       "    }\n",
       "\n",
       "    .dataframe tbody tr th {\n",
       "        vertical-align: top;\n",
       "    }\n",
       "\n",
       "    .dataframe thead tr th {\n",
       "        text-align: left;\n",
       "    }\n",
       "\n",
       "    .dataframe thead tr:last-of-type th {\n",
       "        text-align: right;\n",
       "    }\n",
       "</style>\n",
       "<table border=\"1\" class=\"dataframe\">\n",
       "  <thead>\n",
       "    <tr>\n",
       "      <th></th>\n",
       "      <th colspan=\"2\" halign=\"left\">PassengerId</th>\n",
       "    </tr>\n",
       "    <tr>\n",
       "      <th>Sex</th>\n",
       "      <th>female</th>\n",
       "      <th>male</th>\n",
       "    </tr>\n",
       "    <tr>\n",
       "      <th>Survived</th>\n",
       "      <th></th>\n",
       "      <th></th>\n",
       "    </tr>\n",
       "  </thead>\n",
       "  <tbody>\n",
       "    <tr>\n",
       "      <th>0</th>\n",
       "      <td>81</td>\n",
       "      <td>468</td>\n",
       "    </tr>\n",
       "    <tr>\n",
       "      <th>1</th>\n",
       "      <td>233</td>\n",
       "      <td>109</td>\n",
       "    </tr>\n",
       "  </tbody>\n",
       "</table>\n",
       "</div>"
      ],
      "text/plain": [
       "         PassengerId     \n",
       "Sex           female male\n",
       "Survived                 \n",
       "0                 81  468\n",
       "1                233  109"
      ]
     },
     "execution_count": 222,
     "metadata": {},
     "output_type": "execute_result"
    },
    {
     "data": {
      "image/png": "[encoded data removed]",
      "text/plain": [
       "<Figure size 640x480 with 1 Axes>"
      ]
     },
     "metadata": {},
     "output_type": "display_data"
    }
   ],
   "source": [
    "make_pivot(\"Survived\",\"Sex\")"
   ]
  },
  {
   "cell_type": "markdown",
   "id": "daa848d6",
   "metadata": {},
   "source": [
    "### Relation between Survived and Port of Embarkation"
   ]
  },
  {
   "cell_type": "code",
   "execution_count": 223,
   "id": "e4d7f9d4",
   "metadata": {},
   "outputs": [
    {
     "data": {
      "text/html": [
       "<div>\n",
       "<style scoped>\n",
       "    .dataframe tbody tr th:only-of-type {\n",
       "        vertical-align: middle;\n",
       "    }\n",
       "\n",
       "    .dataframe tbody tr th {\n",
       "        vertical-align: top;\n",
       "    }\n",
       "\n",
       "    .dataframe thead tr th {\n",
       "        text-align: left;\n",
       "    }\n",
       "\n",
       "    .dataframe thead tr:last-of-type th {\n",
       "        text-align: right;\n",
       "    }\n",
       "</style>\n",
       "<table border=\"1\" class=\"dataframe\">\n",
       "  <thead>\n",
       "    <tr>\n",
       "      <th></th>\n",
       "      <th colspan=\"3\" halign=\"left\">PassengerId</th>\n",
       "    </tr>\n",
       "    <tr>\n",
       "      <th>Embarked</th>\n",
       "      <th>C</th>\n",
       "      <th>Q</th>\n",
       "      <th>S</th>\n",
       "    </tr>\n",
       "    <tr>\n",
       "      <th>Survived</th>\n",
       "      <th></th>\n",
       "      <th></th>\n",
       "      <th></th>\n",
       "    </tr>\n",
       "  </thead>\n",
       "  <tbody>\n",
       "    <tr>\n",
       "      <th>0</th>\n",
       "      <td>75</td>\n",
       "      <td>47</td>\n",
       "      <td>427</td>\n",
       "    </tr>\n",
       "    <tr>\n",
       "      <th>1</th>\n",
       "      <td>93</td>\n",
       "      <td>30</td>\n",
       "      <td>219</td>\n",
       "    </tr>\n",
       "  </tbody>\n",
       "</table>\n",
       "</div>"
      ],
      "text/plain": [
       "         PassengerId         \n",
       "Embarked           C   Q    S\n",
       "Survived                     \n",
       "0                 75  47  427\n",
       "1                 93  30  219"
      ]
     },
     "execution_count": 223,
     "metadata": {},
     "output_type": "execute_result"
    },
    {
     "data": {
      "image/png": "[encoded data removed]",
      "text/plain": [
       "<Figure size 640x480 with 1 Axes>"
      ]
     },
     "metadata": {},
     "output_type": "display_data"
    }
   ],
   "source": [
    "make_pivot(\"Survived\",\"Embarked\")"
   ]
  },
  {
   "cell_type": "markdown",
   "id": "4af3075c",
   "metadata": {},
   "source": [
    "### Relation between Survival and Family members on-board"
   ]
  },
  {
   "cell_type": "code",
   "execution_count": 224,
   "id": "73741743",
   "metadata": {},
   "outputs": [
    {
     "data": {
      "text/html": [
       "<div>\n",
       "<style scoped>\n",
       "    .dataframe tbody tr th:only-of-type {\n",
       "        vertical-align: middle;\n",
       "    }\n",
       "\n",
       "    .dataframe tbody tr th {\n",
       "        vertical-align: top;\n",
       "    }\n",
       "\n",
       "    .dataframe thead tr th {\n",
       "        text-align: left;\n",
       "    }\n",
       "\n",
       "    .dataframe thead tr:last-of-type th {\n",
       "        text-align: right;\n",
       "    }\n",
       "</style>\n",
       "<table border=\"1\" class=\"dataframe\">\n",
       "  <thead>\n",
       "    <tr>\n",
       "      <th></th>\n",
       "      <th colspan=\"9\" halign=\"left\">PassengerId</th>\n",
       "    </tr>\n",
       "    <tr>\n",
       "      <th>Family</th>\n",
       "      <th>1</th>\n",
       "      <th>2</th>\n",
       "      <th>3</th>\n",
       "      <th>4</th>\n",
       "      <th>5</th>\n",
       "      <th>6</th>\n",
       "      <th>7</th>\n",
       "      <th>8</th>\n",
       "      <th>11</th>\n",
       "    </tr>\n",
       "    <tr>\n",
       "      <th>Survived</th>\n",
       "      <th></th>\n",
       "      <th></th>\n",
       "      <th></th>\n",
       "      <th></th>\n",
       "      <th></th>\n",
       "      <th></th>\n",
       "      <th></th>\n",
       "      <th></th>\n",
       "      <th></th>\n",
       "    </tr>\n",
       "  </thead>\n",
       "  <tbody>\n",
       "    <tr>\n",
       "      <th>0</th>\n",
       "      <td>374</td>\n",
       "      <td>72</td>\n",
       "      <td>43</td>\n",
       "      <td>8</td>\n",
       "      <td>12</td>\n",
       "      <td>19</td>\n",
       "      <td>8</td>\n",
       "      <td>6</td>\n",
       "      <td>7</td>\n",
       "    </tr>\n",
       "    <tr>\n",
       "      <th>1</th>\n",
       "      <td>163</td>\n",
       "      <td>89</td>\n",
       "      <td>59</td>\n",
       "      <td>21</td>\n",
       "      <td>3</td>\n",
       "      <td>3</td>\n",
       "      <td>4</td>\n",
       "      <td>0</td>\n",
       "      <td>0</td>\n",
       "    </tr>\n",
       "  </tbody>\n",
       "</table>\n",
       "</div>"
      ],
      "text/plain": [
       "         PassengerId                             \n",
       "Family            1   2   3   4   5   6  7  8  11\n",
       "Survived                                         \n",
       "0                374  72  43   8  12  19  8  6  7\n",
       "1                163  89  59  21   3   3  4  0  0"
      ]
     },
     "execution_count": 224,
     "metadata": {},
     "output_type": "execute_result"
    },
    {
     "data": {
      "image/png": "[encoded data removed]",
      "text/plain": [
       "<Figure size 640x480 with 1 Axes>"
      ]
     },
     "metadata": {},
     "output_type": "display_data"
    }
   ],
   "source": [
    "make_pivot(\"Survived\",\"Family\")"
   ]
  },
  {
   "cell_type": "markdown",
   "id": "b7bdb990",
   "metadata": {},
   "source": [
    "### Relation between Survival and Passenger Age"
   ]
  },
  {
   "cell_type": "code",
   "execution_count": 225,
   "id": "8e39f81e",
   "metadata": {},
   "outputs": [
    {
     "data": {
      "text/html": [
       "<div>\n",
       "<style scoped>\n",
       "    .dataframe tbody tr th:only-of-type {\n",
       "        vertical-align: middle;\n",
       "    }\n",
       "\n",
       "    .dataframe tbody tr th {\n",
       "        vertical-align: top;\n",
       "    }\n",
       "\n",
       "    .dataframe thead tr th {\n",
       "        text-align: left;\n",
       "    }\n",
       "\n",
       "    .dataframe thead tr:last-of-type th {\n",
       "        text-align: right;\n",
       "    }\n",
       "</style>\n",
       "<table border=\"1\" class=\"dataframe\">\n",
       "  <thead>\n",
       "    <tr>\n",
       "      <th></th>\n",
       "      <th colspan=\"2\" halign=\"left\">PassengerId</th>\n",
       "    </tr>\n",
       "    <tr>\n",
       "      <th>Adult</th>\n",
       "      <th>0</th>\n",
       "      <th>1</th>\n",
       "    </tr>\n",
       "    <tr>\n",
       "      <th>Survived</th>\n",
       "      <th></th>\n",
       "      <th></th>\n",
       "    </tr>\n",
       "  </thead>\n",
       "  <tbody>\n",
       "    <tr>\n",
       "      <th>0</th>\n",
       "      <td>52</td>\n",
       "      <td>497</td>\n",
       "    </tr>\n",
       "    <tr>\n",
       "      <th>1</th>\n",
       "      <td>61</td>\n",
       "      <td>281</td>\n",
       "    </tr>\n",
       "  </tbody>\n",
       "</table>\n",
       "</div>"
      ],
      "text/plain": [
       "         PassengerId     \n",
       "Adult              0    1\n",
       "Survived                 \n",
       "0                 52  497\n",
       "1                 61  281"
      ]
     },
     "execution_count": 225,
     "metadata": {},
     "output_type": "execute_result"
    },
    {
     "data": {
      "image/png": "[encoded data removed]",
      "text/plain": [
       "<Figure size 640x480 with 1 Axes>"
      ]
     },
     "metadata": {},
     "output_type": "display_data"
    }
   ],
   "source": [
    "make_pivot(\"Survived\",\"Adult\")"
   ]
  },
  {
   "cell_type": "markdown",
   "id": "0264305d",
   "metadata": {},
   "source": [
    " It does not prove my hypothesis that minors were given preference over adults while saving passengers"
   ]
  },
  {
   "cell_type": "markdown",
   "id": "5b926017",
   "metadata": {},
   "source": [
    "## 5. Find the best features using SelectKBest (to get an optimal fit between bias and variance)"
   ]
  },
  {
   "cell_type": "markdown",
   "id": "aee8d404",
   "metadata": {},
   "source": [
    "from df dataframe, I have created a dataframe x, which contains all the features, and a numpy array y, which contains values of survived passengers."
   ]
  },
  {
   "cell_type": "code",
   "execution_count": 226,
   "id": "d5b096f8",
   "metadata": {},
   "outputs": [],
   "source": [
    "df1 = df.filter(['Pclass','Sex','Embarked','Family','Adult'],axis = 1)"
   ]
  },
  {
   "cell_type": "code",
   "execution_count": 227,
   "id": "df472661",
   "metadata": {},
   "outputs": [],
   "source": [
    "x = df1"
   ]
  },
  {
   "cell_type": "code",
   "execution_count": 228,
   "id": "0392443b",
   "metadata": {},
   "outputs": [],
   "source": [
    "df2 = df['Survived']\n",
    "\n",
    "y=df2"
   ]
  },
  {
   "cell_type": "markdown",
   "id": "92de5c28",
   "metadata": {},
   "source": [
    "inorder to run selectkbest, I have converted values in embarked and sex to numeric."
   ]
  },
  {
   "cell_type": "code",
   "execution_count": 231,
   "id": "07543630",
   "metadata": {},
   "outputs": [
    {
     "data": {
      "text/plain": [
       "array(['S', 'C', 'Q'], dtype=object)"
      ]
     },
     "execution_count": 231,
     "metadata": {},
     "output_type": "execute_result"
    }
   ],
   "source": [
    "\n",
    "x['Embarked'].unique()\n"
   ]
  },
  {
   "cell_type": "code",
   "execution_count": 233,
   "id": "10e3039e",
   "metadata": {},
   "outputs": [
    {
     "name": "stderr",
     "output_type": "stream",
     "text": [
      "C:\\Users\\gandh\\AppData\\Local\\Temp\\ipykernel_13960\\1638794473.py:1: SettingWithCopyWarning: \n",
      "A value is trying to be set on a copy of a slice from a DataFrame\n",
      "\n",
      "See the caveats in the documentation: https://pandas.pydata.org/pandas-docs/stable/user_guide/indexing.html#returning-a-view-versus-a-copy\n",
      "  x['Embarked'][df['Embarked'] == 'S'] = 1\n",
      "C:\\Users\\gandh\\AppData\\Local\\Temp\\ipykernel_13960\\1638794473.py:2: SettingWithCopyWarning: \n",
      "A value is trying to be set on a copy of a slice from a DataFrame\n",
      "\n",
      "See the caveats in the documentation: https://pandas.pydata.org/pandas-docs/stable/user_guide/indexing.html#returning-a-view-versus-a-copy\n",
      "  x['Embarked'][df['Embarked'] == 'C'] = 2\n",
      "C:\\Users\\gandh\\AppData\\Local\\Temp\\ipykernel_13960\\1638794473.py:3: SettingWithCopyWarning: \n",
      "A value is trying to be set on a copy of a slice from a DataFrame\n",
      "\n",
      "See the caveats in the documentation: https://pandas.pydata.org/pandas-docs/stable/user_guide/indexing.html#returning-a-view-versus-a-copy\n",
      "  x['Embarked'][df['Embarked'] == 'Q'] = 3\n"
     ]
    }
   ],
   "source": [
    "x['Embarked'][df['Embarked'] == 'S'] = 1\n",
    "x['Embarked'][df['Embarked'] == 'C'] = 2\n",
    "x['Embarked'][df['Embarked'] == 'Q'] = 3"
   ]
  },
  {
   "cell_type": "code",
   "execution_count": 234,
   "id": "abfb9059",
   "metadata": {},
   "outputs": [
    {
     "name": "stderr",
     "output_type": "stream",
     "text": [
      "C:\\Users\\gandh\\AppData\\Local\\Temp\\ipykernel_13960\\2747583644.py:1: SettingWithCopyWarning: \n",
      "A value is trying to be set on a copy of a slice from a DataFrame\n",
      "\n",
      "See the caveats in the documentation: https://pandas.pydata.org/pandas-docs/stable/user_guide/indexing.html#returning-a-view-versus-a-copy\n",
      "  x['Sex'][df['Sex']=='male'] = 1\n",
      "C:\\Users\\gandh\\AppData\\Local\\Temp\\ipykernel_13960\\2747583644.py:2: SettingWithCopyWarning: \n",
      "A value is trying to be set on a copy of a slice from a DataFrame\n",
      "\n",
      "See the caveats in the documentation: https://pandas.pydata.org/pandas-docs/stable/user_guide/indexing.html#returning-a-view-versus-a-copy\n",
      "  x['Sex'][df['Sex']=='female'] = 2\n"
     ]
    }
   ],
   "source": [
    "x['Sex'][df['Sex']=='male'] = 1\n",
    "x['Sex'][df['Sex']=='female'] = 2"
   ]
  },
  {
   "cell_type": "code",
   "execution_count": 236,
   "id": "ea764acd",
   "metadata": {},
   "outputs": [],
   "source": [
    "# using select kbest to get scores of all features of the dataframe\n",
    "\n",
    "test = SelectKBest(f_classif,k='all')\n",
    "test_fit = test.fit(x,y)\n",
    "feat_score = test_fit.scores_.round(3)\n",
    "p_values = -np.log10(test_fit.pvalues_).round(3)"
   ]
  },
  {
   "cell_type": "code",
   "execution_count": 237,
   "id": "f38eb717",
   "metadata": {},
   "outputs": [
    {
     "data": {
      "text/plain": [
       "array([24.596, 68.852,  2.851,  0.208,  3.594])"
      ]
     },
     "execution_count": 237,
     "metadata": {},
     "output_type": "execute_result"
    }
   ],
   "source": [
    "p_values"
   ]
  },
  {
   "cell_type": "markdown",
   "id": "1fd95178",
   "metadata": {},
   "source": [
    "without using np log it will give very small values that are not very easy to understand anmd discrimminate rank wise "
   ]
  },
  {
   "cell_type": "code",
   "execution_count": 238,
   "id": "b9f98b4d",
   "metadata": {},
   "outputs": [
    {
     "data": {
      "text/plain": [
       "array([0, 1, 2, 3, 4], dtype=int64)"
      ]
     },
     "execution_count": 238,
     "metadata": {},
     "output_type": "execute_result"
    }
   ],
   "source": [
    "feature_list = list(x.columns.values)\n",
    "selected_features = test.get_support([test_fit])\n",
    "selected_features"
   ]
  },
  {
   "cell_type": "code",
   "execution_count": 239,
   "id": "fa4695fc",
   "metadata": {},
   "outputs": [],
   "source": [
    "temp_list = []\n",
    "for i in selected_features:\n",
    "    temp_list.append({'Feature': feature_list[i],'P_value':p_values[i],'Score':feat_score[i]})\n",
    "        \n",
    "feat_select = pd.DataFrame(temp_list)"
   ]
  },
  {
   "cell_type": "code",
   "execution_count": 240,
   "id": "e0351dad",
   "metadata": {},
   "outputs": [
    {
     "data": {
      "text/plain": [
       "[{'Feature': 'Pclass', 'P_value': 24.596, 'Score': 115.031},\n",
       " {'Feature': 'Sex', 'P_value': 68.852, 'Score': 372.406},\n",
       " {'Feature': 'Embarked', 'P_value': 2.851, 'Score': 10.259},\n",
       " {'Feature': 'Family', 'P_value': 0.208, 'Score': 0.246},\n",
       " {'Feature': 'Adult', 'P_value': 3.594, 'Score': 13.485}]"
      ]
     },
     "execution_count": 240,
     "metadata": {},
     "output_type": "execute_result"
    }
   ],
   "source": [
    "temp_list"
   ]
  },
  {
   "cell_type": "code",
   "execution_count": 241,
   "id": "459312c0",
   "metadata": {},
   "outputs": [],
   "source": [
    "feat_select = feat_select.sort_values(by = 'Score',axis = 0,ascending = False,inplace = False,kind = 'quicksort',na_position = 'last')"
   ]
  },
  {
   "cell_type": "code",
   "execution_count": 242,
   "id": "075754b9",
   "metadata": {},
   "outputs": [],
   "source": [
    "feat_select = feat_select.set_index('Feature')"
   ]
  },
  {
   "cell_type": "code",
   "execution_count": 243,
   "id": "e19d59aa",
   "metadata": {},
   "outputs": [
    {
     "data": {
      "text/html": [
       "<div>\n",
       "<style scoped>\n",
       "    .dataframe tbody tr th:only-of-type {\n",
       "        vertical-align: middle;\n",
       "    }\n",
       "\n",
       "    .dataframe tbody tr th {\n",
       "        vertical-align: top;\n",
       "    }\n",
       "\n",
       "    .dataframe thead th {\n",
       "        text-align: right;\n",
       "    }\n",
       "</style>\n",
       "<table border=\"1\" class=\"dataframe\">\n",
       "  <thead>\n",
       "    <tr style=\"text-align: right;\">\n",
       "      <th></th>\n",
       "      <th>P_value</th>\n",
       "      <th>Score</th>\n",
       "    </tr>\n",
       "    <tr>\n",
       "      <th>Feature</th>\n",
       "      <th></th>\n",
       "      <th></th>\n",
       "    </tr>\n",
       "  </thead>\n",
       "  <tbody>\n",
       "    <tr>\n",
       "      <th>Sex</th>\n",
       "      <td>68.852</td>\n",
       "      <td>372.406</td>\n",
       "    </tr>\n",
       "    <tr>\n",
       "      <th>Pclass</th>\n",
       "      <td>24.596</td>\n",
       "      <td>115.031</td>\n",
       "    </tr>\n",
       "    <tr>\n",
       "      <th>Adult</th>\n",
       "      <td>3.594</td>\n",
       "      <td>13.485</td>\n",
       "    </tr>\n",
       "    <tr>\n",
       "      <th>Embarked</th>\n",
       "      <td>2.851</td>\n",
       "      <td>10.259</td>\n",
       "    </tr>\n",
       "    <tr>\n",
       "      <th>Family</th>\n",
       "      <td>0.208</td>\n",
       "      <td>0.246</td>\n",
       "    </tr>\n",
       "  </tbody>\n",
       "</table>\n",
       "</div>"
      ],
      "text/plain": [
       "          P_value    Score\n",
       "Feature                   \n",
       "Sex        68.852  372.406\n",
       "Pclass     24.596  115.031\n",
       "Adult       3.594   13.485\n",
       "Embarked    2.851   10.259\n",
       "Family      0.208    0.246"
      ]
     },
     "execution_count": 243,
     "metadata": {},
     "output_type": "execute_result"
    }
   ],
   "source": [
    "feat_select"
   ]
  },
  {
   "cell_type": "code",
   "execution_count": 244,
   "id": "9aa60f78",
   "metadata": {},
   "outputs": [
    {
     "data": {
      "image/png": "[encoded data removed]",
      "text/plain": [
       "<Figure size 640x480 with 1 Axes>"
      ]
     },
     "metadata": {},
     "output_type": "display_data"
    }
   ],
   "source": [
    "ax = feat_select[['P_value','Score']].plot(kind = 'bar',title = 'Scores and P-values',legend = True,fontsize = 12)\n",
    "ax.set_xlabel('Feature',fontsize=12)\n",
    "ax.set_ylabel('Scores and P-values', fontsize = 12)\n",
    "plt.show()\n"
   ]
  },
  {
   "cell_type": "markdown",
   "id": "9f59db04",
   "metadata": {},
   "source": [
    "Based on the score above, I have considered top 3 features - Sex,Pclass, and Adult - as my final features"
   ]
  },
  {
   "cell_type": "code",
   "execution_count": 245,
   "id": "dc7d7891",
   "metadata": {},
   "outputs": [],
   "source": [
    "### dropping the embarked and family column\n",
    "\n",
    "x = x.drop('Embarked',axis = 1,)\n",
    "x = x.drop('Family',axis = 1,)"
   ]
  },
  {
   "cell_type": "code",
   "execution_count": 246,
   "id": "52d46682",
   "metadata": {},
   "outputs": [
    {
     "data": {
      "text/html": [
       "<div>\n",
       "<style scoped>\n",
       "    .dataframe tbody tr th:only-of-type {\n",
       "        vertical-align: middle;\n",
       "    }\n",
       "\n",
       "    .dataframe tbody tr th {\n",
       "        vertical-align: top;\n",
       "    }\n",
       "\n",
       "    .dataframe thead th {\n",
       "        text-align: right;\n",
       "    }\n",
       "</style>\n",
       "<table border=\"1\" class=\"dataframe\">\n",
       "  <thead>\n",
       "    <tr style=\"text-align: right;\">\n",
       "      <th></th>\n",
       "      <th>Pclass</th>\n",
       "      <th>Sex</th>\n",
       "      <th>Adult</th>\n",
       "    </tr>\n",
       "  </thead>\n",
       "  <tbody>\n",
       "    <tr>\n",
       "      <th>0</th>\n",
       "      <td>3</td>\n",
       "      <td>1</td>\n",
       "      <td>1</td>\n",
       "    </tr>\n",
       "    <tr>\n",
       "      <th>1</th>\n",
       "      <td>1</td>\n",
       "      <td>2</td>\n",
       "      <td>1</td>\n",
       "    </tr>\n",
       "    <tr>\n",
       "      <th>2</th>\n",
       "      <td>3</td>\n",
       "      <td>2</td>\n",
       "      <td>1</td>\n",
       "    </tr>\n",
       "    <tr>\n",
       "      <th>3</th>\n",
       "      <td>1</td>\n",
       "      <td>2</td>\n",
       "      <td>1</td>\n",
       "    </tr>\n",
       "    <tr>\n",
       "      <th>4</th>\n",
       "      <td>3</td>\n",
       "      <td>1</td>\n",
       "      <td>1</td>\n",
       "    </tr>\n",
       "  </tbody>\n",
       "</table>\n",
       "</div>"
      ],
      "text/plain": [
       "   Pclass Sex  Adult\n",
       "0       3   1      1\n",
       "1       1   2      1\n",
       "2       3   2      1\n",
       "3       1   2      1\n",
       "4       3   1      1"
      ]
     },
     "execution_count": 246,
     "metadata": {},
     "output_type": "execute_result"
    }
   ],
   "source": [
    "x.head()"
   ]
  },
  {
   "cell_type": "markdown",
   "id": "f4c08ef3",
   "metadata": {},
   "source": [
    "## 6. Train and Fit the Model"
   ]
  },
  {
   "cell_type": "markdown",
   "id": "87c2588c",
   "metadata": {},
   "source": [
    "since test.csv do not contain survived column, I have split the training dataset to do in-house accuracy and precision testing, before submitting the entry."
   ]
  },
  {
   "cell_type": "code",
   "execution_count": 247,
   "id": "d77e8a4e",
   "metadata": {},
   "outputs": [],
   "source": [
    "features_train,features_test,labels_train,labels_test = train_test_split(x,y,test_size = 0.3,random_state = 42)"
   ]
  },
  {
   "cell_type": "code",
   "execution_count": 248,
   "id": "c811beae",
   "metadata": {},
   "outputs": [
    {
     "data": {
      "text/plain": [
       "(623, 3)"
      ]
     },
     "execution_count": 248,
     "metadata": {},
     "output_type": "execute_result"
    }
   ],
   "source": [
    "features_train.shape"
   ]
  },
  {
   "cell_type": "code",
   "execution_count": 249,
   "id": "930462f8",
   "metadata": {},
   "outputs": [
    {
     "data": {
      "text/plain": [
       "(268, 3)"
      ]
     },
     "execution_count": 249,
     "metadata": {},
     "output_type": "execute_result"
    }
   ],
   "source": [
    "features_test.shape"
   ]
  },
  {
   "cell_type": "code",
   "execution_count": 251,
   "id": "392626e1",
   "metadata": {},
   "outputs": [
    {
     "data": {
      "text/plain": [
       "(623,)"
      ]
     },
     "execution_count": 251,
     "metadata": {},
     "output_type": "execute_result"
    }
   ],
   "source": [
    "labels_train.shape"
   ]
  },
  {
   "cell_type": "code",
   "execution_count": 252,
   "id": "40b8e59d",
   "metadata": {},
   "outputs": [
    {
     "data": {
      "text/plain": [
       "(268,)"
      ]
     },
     "execution_count": 252,
     "metadata": {},
     "output_type": "execute_result"
    }
   ],
   "source": [
    "labels_test.shape"
   ]
  },
  {
   "cell_type": "markdown",
   "id": "93c91dc9",
   "metadata": {},
   "source": [
    "## 7. Predict the score using KNearestNeighbors"
   ]
  },
  {
   "cell_type": "code",
   "execution_count": 255,
   "id": "12bb710d",
   "metadata": {},
   "outputs": [
    {
     "data": {
      "text/html": [
       "<style>#sk-container-id-1 {color: black;background-color: white;}#sk-container-id-1 pre{padding: 0;}#sk-container-id-1 div.sk-toggleable {background-color: white;}#sk-container-id-1 label.sk-toggleable__label {cursor: pointer;display: block;width: 100%;margin-bottom: 0;padding: 0.3em;box-sizing: border-box;text-align: center;}#sk-container-id-1 label.sk-toggleable__label-arrow:before {content: \"▸\";float: left;margin-right: 0.25em;color: #696969;}#sk-container-id-1 label.sk-toggleable__label-arrow:hover:before {color: black;}#sk-container-id-1 div.sk-estimator:hover label.sk-toggleable__label-arrow:before {color: black;}#sk-container-id-1 div.sk-toggleable__content {max-height: 0;max-width: 0;overflow: hidden;text-align: left;background-color: #f0f8ff;}#sk-container-id-1 div.sk-toggleable__content pre {margin: 0.2em;color: black;border-radius: 0.25em;background-color: #f0f8ff;}#sk-container-id-1 input.sk-toggleable__control:checked~div.sk-toggleable__content {max-height: 200px;max-width: 100%;overflow: auto;}#sk-container-id-1 input.sk-toggleable__control:checked~label.sk-toggleable__label-arrow:before {content: \"▾\";}#sk-container-id-1 div.sk-estimator input.sk-toggleable__control:checked~label.sk-toggleable__label {background-color: #d4ebff;}#sk-container-id-1 div.sk-label input.sk-toggleable__control:checked~label.sk-toggleable__label {background-color: #d4ebff;}#sk-container-id-1 input.sk-hidden--visually {border: 0;clip: rect(1px 1px 1px 1px);clip: rect(1px, 1px, 1px, 1px);height: 1px;margin: -1px;overflow: hidden;padding: 0;position: absolute;width: 1px;}#sk-container-id-1 div.sk-estimator {font-family: monospace;background-color: #f0f8ff;border: 1px dotted black;border-radius: 0.25em;box-sizing: border-box;margin-bottom: 0.5em;}#sk-container-id-1 div.sk-estimator:hover {background-color: #d4ebff;}#sk-container-id-1 div.sk-parallel-item::after {content: \"\";width: 100%;border-bottom: 1px solid gray;flex-grow: 1;}#sk-container-id-1 div.sk-label:hover label.sk-toggleable__label {background-color: #d4ebff;}#sk-container-id-1 div.sk-serial::before {content: \"\";position: absolute;border-left: 1px solid gray;box-sizing: border-box;top: 0;bottom: 0;left: 50%;z-index: 0;}#sk-container-id-1 div.sk-serial {display: flex;flex-direction: column;align-items: center;background-color: white;padding-right: 0.2em;padding-left: 0.2em;position: relative;}#sk-container-id-1 div.sk-item {position: relative;z-index: 1;}#sk-container-id-1 div.sk-parallel {display: flex;align-items: stretch;justify-content: center;background-color: white;position: relative;}#sk-container-id-1 div.sk-item::before, #sk-container-id-1 div.sk-parallel-item::before {content: \"\";position: absolute;border-left: 1px solid gray;box-sizing: border-box;top: 0;bottom: 0;left: 50%;z-index: -1;}#sk-container-id-1 div.sk-parallel-item {display: flex;flex-direction: column;z-index: 1;position: relative;background-color: white;}#sk-container-id-1 div.sk-parallel-item:first-child::after {align-self: flex-end;width: 50%;}#sk-container-id-1 div.sk-parallel-item:last-child::after {align-self: flex-start;width: 50%;}#sk-container-id-1 div.sk-parallel-item:only-child::after {width: 0;}#sk-container-id-1 div.sk-dashed-wrapped {border: 1px dashed gray;margin: 0 0.4em 0.5em 0.4em;box-sizing: border-box;padding-bottom: 0.4em;background-color: white;}#sk-container-id-1 div.sk-label label {font-family: monospace;font-weight: bold;display: inline-block;line-height: 1.2em;}#sk-container-id-1 div.sk-label-container {text-align: center;}#sk-container-id-1 div.sk-container {/* jupyter's `normalize.less` sets `[hidden] { display: none; }` but bootstrap.min.css set `[hidden] { display: none !important; }` so we also need the `!important` here to be able to override the default hidden behavior on the sphinx rendered scikit-learn.org. See: https://github.com/scikit-learn/scikit-learn/issues/21755 */display: inline-block !important;position: relative;}#sk-container-id-1 div.sk-text-repr-fallback {display: none;}</style><div id=\"sk-container-id-1\" class=\"sk-top-container\"><div class=\"sk-text-repr-fallback\"><pre>GridSearchCV(cv=10, estimator=KNeighborsClassifier(),\n",
       "             param_grid={&#x27;n_neighbors&#x27;: [1, 2, 3, 4, 5, 6, 7, 8, 9],\n",
       "                         &#x27;weights&#x27;: [&#x27;uniform&#x27;, &#x27;distance&#x27;]},\n",
       "             scoring=&#x27;accuracy&#x27;)</pre><b>In a Jupyter environment, please rerun this cell to show the HTML representation or trust the notebook. <br />On GitHub, the HTML representation is unable to render, please try loading this page with nbviewer.org.</b></div><div class=\"sk-container\" hidden><div class=\"sk-item sk-dashed-wrapped\"><div class=\"sk-label-container\"><div class=\"sk-label sk-toggleable\"><input class=\"sk-toggleable__control sk-hidden--visually\" id=\"sk-estimator-id-1\" type=\"checkbox\" ><label for=\"sk-estimator-id-1\" class=\"sk-toggleable__label sk-toggleable__label-arrow\">GridSearchCV</label><div class=\"sk-toggleable__content\"><pre>GridSearchCV(cv=10, estimator=KNeighborsClassifier(),\n",
       "             param_grid={&#x27;n_neighbors&#x27;: [1, 2, 3, 4, 5, 6, 7, 8, 9],\n",
       "                         &#x27;weights&#x27;: [&#x27;uniform&#x27;, &#x27;distance&#x27;]},\n",
       "             scoring=&#x27;accuracy&#x27;)</pre></div></div></div><div class=\"sk-parallel\"><div class=\"sk-parallel-item\"><div class=\"sk-item\"><div class=\"sk-label-container\"><div class=\"sk-label sk-toggleable\"><input class=\"sk-toggleable__control sk-hidden--visually\" id=\"sk-estimator-id-2\" type=\"checkbox\" ><label for=\"sk-estimator-id-2\" class=\"sk-toggleable__label sk-toggleable__label-arrow\">estimator: KNeighborsClassifier</label><div class=\"sk-toggleable__content\"><pre>KNeighborsClassifier()</pre></div></div></div><div class=\"sk-serial\"><div class=\"sk-item\"><div class=\"sk-estimator sk-toggleable\"><input class=\"sk-toggleable__control sk-hidden--visually\" id=\"sk-estimator-id-3\" type=\"checkbox\" ><label for=\"sk-estimator-id-3\" class=\"sk-toggleable__label sk-toggleable__label-arrow\">KNeighborsClassifier</label><div class=\"sk-toggleable__content\"><pre>KNeighborsClassifier()</pre></div></div></div></div></div></div></div></div></div></div>"
      ],
      "text/plain": [
       "GridSearchCV(cv=10, estimator=KNeighborsClassifier(),\n",
       "             param_grid={'n_neighbors': [1, 2, 3, 4, 5, 6, 7, 8, 9],\n",
       "                         'weights': ['uniform', 'distance']},\n",
       "             scoring='accuracy')"
      ]
     },
     "execution_count": 255,
     "metadata": {},
     "output_type": "execute_result"
    }
   ],
   "source": [
    "knn = KNeighborsClassifier()\n",
    "k_range = list(range(1,10))\n",
    "weights_options = ['uniform','distance']\n",
    "k_grid = dict(n_neighbors = k_range,weights = weights_options)\n",
    "grid = GridSearchCV(knn,k_grid,cv = 10,scoring = 'accuracy')\n",
    "grid.fit(features_train,labels_train)"
   ]
  },
  {
   "cell_type": "code",
   "execution_count": 256,
   "id": "245b56a9",
   "metadata": {},
   "outputs": [
    {
     "name": "stdout",
     "output_type": "stream",
     "text": [
      "best score:  0.8072452636968765\n"
     ]
    }
   ],
   "source": [
    "print(\"best score: \",str(grid.best_score_))\n"
   ]
  },
  {
   "cell_type": "code",
   "execution_count": 257,
   "id": "15444503",
   "metadata": {},
   "outputs": [
    {
     "name": "stdout",
     "output_type": "stream",
     "text": [
      "best Parameters:  {'n_neighbors': 6, 'weights': 'distance'}\n"
     ]
    }
   ],
   "source": [
    "print(\"best Parameters: \",str(grid.best_params_))"
   ]
  },
  {
   "cell_type": "code",
   "execution_count": 258,
   "id": "0694400e",
   "metadata": {},
   "outputs": [
    {
     "name": "stdout",
     "output_type": "stream",
     "text": [
      "best Estimators:  KNeighborsClassifier(n_neighbors=6, weights='distance')\n"
     ]
    }
   ],
   "source": [
    "print(\"best Estimators: \",str(grid.best_estimator_))"
   ]
  },
  {
   "cell_type": "markdown",
   "id": "c5f43fff",
   "metadata": {},
   "source": [
    "## 8. CHeck Accuracy"
   ]
  },
  {
   "cell_type": "code",
   "execution_count": 260,
   "id": "e4d0495d",
   "metadata": {},
   "outputs": [],
   "source": [
    "# predicting scores\n",
    "\n",
    "label_pred = grid.predict(features_test)"
   ]
  },
  {
   "cell_type": "code",
   "execution_count": 262,
   "id": "7bc0517a",
   "metadata": {},
   "outputs": [
    {
     "name": "stdout",
     "output_type": "stream",
     "text": [
      "classifier's accuracy:  0.7910447761194029\n"
     ]
    }
   ],
   "source": [
    "#calculating accuracy\n",
    "\n",
    "acc_clf = metrics.accuracy_score(labels_test,label_pred)\n",
    "\n",
    "print(\"classifier's accuracy: \",str(acc_clf))"
   ]
  },
  {
   "cell_type": "code",
   "execution_count": 263,
   "id": "08222252",
   "metadata": {},
   "outputs": [],
   "source": [
    "from sklearn.metrics import *"
   ]
  },
  {
   "cell_type": "code",
   "execution_count": 264,
   "id": "5c1fad9d",
   "metadata": {},
   "outputs": [
    {
     "name": "stdout",
     "output_type": "stream",
     "text": [
      "              precision    recall  f1-score   support\n",
      "\n",
      "           0       0.76      0.94      0.84       157\n",
      "           1       0.88      0.58      0.70       111\n",
      "\n",
      "    accuracy                           0.79       268\n",
      "   macro avg       0.82      0.76      0.77       268\n",
      "weighted avg       0.81      0.79      0.78       268\n",
      "\n"
     ]
    }
   ],
   "source": [
    "print(classification_report(labels_test,label_pred))"
   ]
  },
  {
   "cell_type": "code",
   "execution_count": 265,
   "id": "eca47810",
   "metadata": {},
   "outputs": [
    {
     "name": "stdout",
     "output_type": "stream",
     "text": [
      "classifier's precision:  0.8077389658661381\n",
      "classifier's recall:  0.7910447761194029\n",
      "classifier's fbeta_score:  0.7807467111084891\n"
     ]
    }
   ],
   "source": [
    "# calculating precision,recall, and fbeta_score\n",
    "\n",
    "scr_clf = precision_recall_fscore_support(labels_test,label_pred,average='weighted')\n",
    "\n",
    "print(\"classifier's precision: \",str(scr_clf[0]))\n",
    "print(\"classifier's recall: \",str(scr_clf[1]))\n",
    "print(\"classifier's fbeta_score: \",str(scr_clf[2]))"
   ]
  },
  {
   "cell_type": "markdown",
   "id": "26f017d0",
   "metadata": {},
   "source": [
    "## 9. Predict survival values for test.csv\n",
    "\n"
   ]
  },
  {
   "cell_type": "markdown",
   "id": "9860a842",
   "metadata": {},
   "source": [
    "Now that I have checked the accuracy, precision, and recall, I will predict the scores test.csv and export the final file for submission."
   ]
  },
  {
   "cell_type": "code",
   "execution_count": 266,
   "id": "6a807810",
   "metadata": {},
   "outputs": [],
   "source": [
    "#importing the testing dataset\n",
    "\n",
    "df_test = pd.read_csv(r'test.csv')"
   ]
  },
  {
   "cell_type": "code",
   "execution_count": 267,
   "id": "8ea65674",
   "metadata": {},
   "outputs": [
    {
     "data": {
      "text/plain": [
       "PassengerId      int64\n",
       "Pclass           int64\n",
       "Name            object\n",
       "Sex             object\n",
       "Age            float64\n",
       "SibSp            int64\n",
       "Parch            int64\n",
       "Ticket          object\n",
       "Fare           float64\n",
       "Cabin           object\n",
       "Embarked        object\n",
       "dtype: object"
      ]
     },
     "execution_count": 267,
     "metadata": {},
     "output_type": "execute_result"
    }
   ],
   "source": [
    "df_test.dtypes"
   ]
  },
  {
   "cell_type": "markdown",
   "id": "894e1f40",
   "metadata": {},
   "source": [
    "I need only following three features from the dataframe\n",
    "\n",
    "1. Sex\n",
    "2. Pclass\n",
    "3. Adult(derived from age)"
   ]
  },
  {
   "cell_type": "code",
   "execution_count": 268,
   "id": "c61fbf20",
   "metadata": {},
   "outputs": [],
   "source": [
    "test_set = df_test[['Pclass','Sex','Age']].copy()\n"
   ]
  },
  {
   "cell_type": "code",
   "execution_count": 269,
   "id": "3b1170dc",
   "metadata": {},
   "outputs": [
    {
     "data": {
      "text/plain": [
       "array(['Pclass', 'Sex', 'Age'], dtype=object)"
      ]
     },
     "execution_count": 269,
     "metadata": {},
     "output_type": "execute_result"
    }
   ],
   "source": [
    "test_set.columns.values"
   ]
  },
  {
   "cell_type": "code",
   "execution_count": 270,
   "id": "4fe7cbd9",
   "metadata": {},
   "outputs": [],
   "source": [
    "# filling NaN values in Age\n",
    "\n",
    "test_set['Age'] = test_set['Age'].fillna(test_set['Age'].median())"
   ]
  },
  {
   "cell_type": "code",
   "execution_count": 271,
   "id": "bad6cfc8",
   "metadata": {},
   "outputs": [
    {
     "name": "stderr",
     "output_type": "stream",
     "text": [
      "C:\\Users\\gandh\\AppData\\Local\\Temp\\ipykernel_13960\\3210400983.py:4: SettingWithCopyWarning: \n",
      "A value is trying to be set on a copy of a slice from a DataFrame\n",
      "\n",
      "See the caveats in the documentation: https://pandas.pydata.org/pandas-docs/stable/user_guide/indexing.html#returning-a-view-versus-a-copy\n",
      "  test_set['Adult'][test_set['Age']>=18] = 1\n"
     ]
    }
   ],
   "source": [
    "# creating rthe adult column\n",
    "\n",
    "test_set['Adult'] = 0\n",
    "test_set['Adult'][test_set['Age']>=18] = 1"
   ]
  },
  {
   "cell_type": "code",
   "execution_count": 272,
   "id": "ac51461b",
   "metadata": {},
   "outputs": [],
   "source": [
    "## dropping the age column\n",
    "\n",
    "test_set = test_set.drop('Age',axis = 1,)"
   ]
  },
  {
   "cell_type": "code",
   "execution_count": 273,
   "id": "8162a666",
   "metadata": {},
   "outputs": [
    {
     "name": "stderr",
     "output_type": "stream",
     "text": [
      "C:\\Users\\gandh\\AppData\\Local\\Temp\\ipykernel_13960\\1745009085.py:3: SettingWithCopyWarning: \n",
      "A value is trying to be set on a copy of a slice from a DataFrame\n",
      "\n",
      "See the caveats in the documentation: https://pandas.pydata.org/pandas-docs/stable/user_guide/indexing.html#returning-a-view-versus-a-copy\n",
      "  test_set['Sex'][test_set['Sex']=='male'] = 1\n",
      "C:\\Users\\gandh\\AppData\\Local\\Temp\\ipykernel_13960\\1745009085.py:4: SettingWithCopyWarning: \n",
      "A value is trying to be set on a copy of a slice from a DataFrame\n",
      "\n",
      "See the caveats in the documentation: https://pandas.pydata.org/pandas-docs/stable/user_guide/indexing.html#returning-a-view-versus-a-copy\n",
      "  test_set['Sex'][test_set['Sex']=='female'] = 2\n"
     ]
    }
   ],
   "source": [
    "# converting values of column sex to numeric\n",
    "\n",
    "test_set['Sex'][test_set['Sex']=='male'] = 1\n",
    "test_set['Sex'][test_set['Sex']=='female'] = 2"
   ]
  },
  {
   "cell_type": "code",
   "execution_count": 274,
   "id": "08d1df3d",
   "metadata": {},
   "outputs": [
    {
     "data": {
      "text/html": [
       "<div>\n",
       "<style scoped>\n",
       "    .dataframe tbody tr th:only-of-type {\n",
       "        vertical-align: middle;\n",
       "    }\n",
       "\n",
       "    .dataframe tbody tr th {\n",
       "        vertical-align: top;\n",
       "    }\n",
       "\n",
       "    .dataframe thead th {\n",
       "        text-align: right;\n",
       "    }\n",
       "</style>\n",
       "<table border=\"1\" class=\"dataframe\">\n",
       "  <thead>\n",
       "    <tr style=\"text-align: right;\">\n",
       "      <th></th>\n",
       "      <th>Pclass</th>\n",
       "      <th>Sex</th>\n",
       "      <th>Adult</th>\n",
       "    </tr>\n",
       "  </thead>\n",
       "  <tbody>\n",
       "    <tr>\n",
       "      <th>0</th>\n",
       "      <td>3</td>\n",
       "      <td>1</td>\n",
       "      <td>1</td>\n",
       "    </tr>\n",
       "    <tr>\n",
       "      <th>1</th>\n",
       "      <td>3</td>\n",
       "      <td>2</td>\n",
       "      <td>1</td>\n",
       "    </tr>\n",
       "    <tr>\n",
       "      <th>2</th>\n",
       "      <td>2</td>\n",
       "      <td>1</td>\n",
       "      <td>1</td>\n",
       "    </tr>\n",
       "    <tr>\n",
       "      <th>3</th>\n",
       "      <td>3</td>\n",
       "      <td>1</td>\n",
       "      <td>1</td>\n",
       "    </tr>\n",
       "    <tr>\n",
       "      <th>4</th>\n",
       "      <td>3</td>\n",
       "      <td>2</td>\n",
       "      <td>1</td>\n",
       "    </tr>\n",
       "  </tbody>\n",
       "</table>\n",
       "</div>"
      ],
      "text/plain": [
       "   Pclass Sex  Adult\n",
       "0       3   1      1\n",
       "1       3   2      1\n",
       "2       2   1      1\n",
       "3       3   1      1\n",
       "4       3   2      1"
      ]
     },
     "execution_count": 274,
     "metadata": {},
     "output_type": "execute_result"
    }
   ],
   "source": [
    "test_set.head()"
   ]
  },
  {
   "cell_type": "code",
   "execution_count": 275,
   "id": "99d62110",
   "metadata": {},
   "outputs": [
    {
     "data": {
      "text/plain": [
       "array([0, 0, 0, 0, 0, 0, 0, 0, 0, 0, 0, 0, 1, 0, 1, 1, 0, 0, 0, 0, 0, 0,\n",
       "       1, 0, 1, 0, 1, 0, 0, 0, 0, 0, 0, 0, 0, 0, 0, 0, 0, 0, 0, 0, 0, 1,\n",
       "       1, 0, 0, 0, 1, 0, 0, 0, 1, 1, 0, 0, 0, 0, 0, 1, 0, 0, 0, 0, 1, 1,\n",
       "       0, 0, 0, 1, 0, 0, 0, 0, 1, 0, 0, 1, 0, 0, 0, 0, 0, 0, 0, 0, 0, 0,\n",
       "       0, 1, 0, 0, 1, 0, 0, 0, 1, 0, 0, 0, 1, 0, 0, 0, 1, 0, 0, 0, 0, 0,\n",
       "       0, 0, 1, 0, 1, 0, 0, 1, 0, 1, 1, 0, 1, 0, 0, 1, 0, 0, 0, 0, 0, 0,\n",
       "       0, 0, 0, 0, 0, 0, 0, 0, 1, 1, 0, 0, 0, 0, 0, 0, 0, 0, 1, 0, 0, 0,\n",
       "       0, 0, 1, 0, 0, 0, 0, 0, 1, 0, 0, 0, 0, 0, 1, 0, 0, 0, 0, 0, 0, 1,\n",
       "       1, 0, 1, 1, 0, 0, 1, 0, 1, 0, 1, 0, 0, 0, 0, 0, 0, 0, 1, 0, 1, 0,\n",
       "       0, 0, 0, 0, 0, 1, 0, 0, 0, 0, 1, 0, 0, 0, 1, 1, 0, 0, 0, 0, 1, 0,\n",
       "       1, 0, 1, 0, 1, 0, 0, 0, 0, 0, 1, 1, 0, 0, 0, 0, 0, 0, 1, 1, 1, 1,\n",
       "       0, 0, 0, 0, 1, 0, 1, 0, 1, 0, 0, 0, 0, 0, 0, 0, 1, 0, 0, 0, 1, 1,\n",
       "       0, 0, 0, 0, 0, 0, 0, 0, 1, 0, 0, 1, 0, 0, 0, 0, 0, 0, 0, 1, 1, 0,\n",
       "       0, 0, 0, 0, 0, 0, 0, 0, 0, 0, 1, 0, 0, 0, 0, 0, 0, 0, 0, 1, 0, 0,\n",
       "       0, 0, 0, 0, 0, 0, 1, 1, 0, 0, 0, 0, 0, 0, 0, 0, 1, 0, 1, 0, 0, 0,\n",
       "       1, 0, 0, 0, 0, 0, 0, 0, 0, 0, 0, 0, 0, 1, 0, 1, 0, 0, 0, 1, 1, 0,\n",
       "       0, 0, 1, 0, 1, 0, 0, 0, 0, 1, 1, 0, 1, 0, 0, 0, 1, 0, 0, 1, 0, 0,\n",
       "       1, 1, 0, 0, 0, 0, 0, 0, 0, 0, 0, 1, 0, 0, 0, 0, 0, 1, 0, 0, 0, 1,\n",
       "       0, 1, 0, 0, 1, 0, 1, 1, 0, 0, 0, 0, 0, 1, 0, 1, 0, 0, 1, 0, 0, 0],\n",
       "      dtype=int64)"
      ]
     },
     "execution_count": 275,
     "metadata": {},
     "output_type": "execute_result"
    }
   ],
   "source": [
    "#predicting survivals on test set\n",
    "\n",
    "final_pred = grid.predict(test_set)\n",
    "final_pred"
   ]
  },
  {
   "cell_type": "code",
   "execution_count": 276,
   "id": "91b97bbe",
   "metadata": {},
   "outputs": [
    {
     "data": {
      "text/plain": [
       "418"
      ]
     },
     "execution_count": 276,
     "metadata": {},
     "output_type": "execute_result"
    }
   ],
   "source": [
    "len(final_pred)"
   ]
  },
  {
   "cell_type": "markdown",
   "id": "b053acbe",
   "metadata": {},
   "source": [
    "## 10. Create final file for submission"
   ]
  },
  {
   "cell_type": "code",
   "execution_count": 277,
   "id": "e7c13695",
   "metadata": {},
   "outputs": [],
   "source": [
    "df_test['Survived'] = pd.Series(final_pred,index = df_test.index)\n"
   ]
  },
  {
   "cell_type": "code",
   "execution_count": 278,
   "id": "6215fcd6",
   "metadata": {},
   "outputs": [
    {
     "data": {
      "text/html": [
       "<div>\n",
       "<style scoped>\n",
       "    .dataframe tbody tr th:only-of-type {\n",
       "        vertical-align: middle;\n",
       "    }\n",
       "\n",
       "    .dataframe tbody tr th {\n",
       "        vertical-align: top;\n",
       "    }\n",
       "\n",
       "    .dataframe thead th {\n",
       "        text-align: right;\n",
       "    }\n",
       "</style>\n",
       "<table border=\"1\" class=\"dataframe\">\n",
       "  <thead>\n",
       "    <tr style=\"text-align: right;\">\n",
       "      <th></th>\n",
       "      <th>PassengerId</th>\n",
       "      <th>Pclass</th>\n",
       "      <th>Name</th>\n",
       "      <th>Sex</th>\n",
       "      <th>Age</th>\n",
       "      <th>SibSp</th>\n",
       "      <th>Parch</th>\n",
       "      <th>Ticket</th>\n",
       "      <th>Fare</th>\n",
       "      <th>Cabin</th>\n",
       "      <th>Embarked</th>\n",
       "      <th>Survived</th>\n",
       "    </tr>\n",
       "  </thead>\n",
       "  <tbody>\n",
       "    <tr>\n",
       "      <th>0</th>\n",
       "      <td>892</td>\n",
       "      <td>3</td>\n",
       "      <td>Kelly, Mr. James</td>\n",
       "      <td>male</td>\n",
       "      <td>34.5</td>\n",
       "      <td>0</td>\n",
       "      <td>0</td>\n",
       "      <td>330911</td>\n",
       "      <td>7.8292</td>\n",
       "      <td>NaN</td>\n",
       "      <td>Q</td>\n",
       "      <td>0</td>\n",
       "    </tr>\n",
       "    <tr>\n",
       "      <th>1</th>\n",
       "      <td>893</td>\n",
       "      <td>3</td>\n",
       "      <td>Wilkes, Mrs. James (Ellen Needs)</td>\n",
       "      <td>female</td>\n",
       "      <td>47.0</td>\n",
       "      <td>1</td>\n",
       "      <td>0</td>\n",
       "      <td>363272</td>\n",
       "      <td>7.0000</td>\n",
       "      <td>NaN</td>\n",
       "      <td>S</td>\n",
       "      <td>0</td>\n",
       "    </tr>\n",
       "    <tr>\n",
       "      <th>2</th>\n",
       "      <td>894</td>\n",
       "      <td>2</td>\n",
       "      <td>Myles, Mr. Thomas Francis</td>\n",
       "      <td>male</td>\n",
       "      <td>62.0</td>\n",
       "      <td>0</td>\n",
       "      <td>0</td>\n",
       "      <td>240276</td>\n",
       "      <td>9.6875</td>\n",
       "      <td>NaN</td>\n",
       "      <td>Q</td>\n",
       "      <td>0</td>\n",
       "    </tr>\n",
       "    <tr>\n",
       "      <th>3</th>\n",
       "      <td>895</td>\n",
       "      <td>3</td>\n",
       "      <td>Wirz, Mr. Albert</td>\n",
       "      <td>male</td>\n",
       "      <td>27.0</td>\n",
       "      <td>0</td>\n",
       "      <td>0</td>\n",
       "      <td>315154</td>\n",
       "      <td>8.6625</td>\n",
       "      <td>NaN</td>\n",
       "      <td>S</td>\n",
       "      <td>0</td>\n",
       "    </tr>\n",
       "    <tr>\n",
       "      <th>4</th>\n",
       "      <td>896</td>\n",
       "      <td>3</td>\n",
       "      <td>Hirvonen, Mrs. Alexander (Helga E Lindqvist)</td>\n",
       "      <td>female</td>\n",
       "      <td>22.0</td>\n",
       "      <td>1</td>\n",
       "      <td>1</td>\n",
       "      <td>3101298</td>\n",
       "      <td>12.2875</td>\n",
       "      <td>NaN</td>\n",
       "      <td>S</td>\n",
       "      <td>0</td>\n",
       "    </tr>\n",
       "  </tbody>\n",
       "</table>\n",
       "</div>"
      ],
      "text/plain": [
       "   PassengerId  Pclass                                          Name     Sex  ...     Fare  Cabin  Embarked Survived\n",
       "0          892       3                              Kelly, Mr. James    male  ...   7.8292    NaN         Q        0\n",
       "1          893       3              Wilkes, Mrs. James (Ellen Needs)  female  ...   7.0000    NaN         S        0\n",
       "2          894       2                     Myles, Mr. Thomas Francis    male  ...   9.6875    NaN         Q        0\n",
       "3          895       3                              Wirz, Mr. Albert    male  ...   8.6625    NaN         S        0\n",
       "4          896       3  Hirvonen, Mrs. Alexander (Helga E Lindqvist)  female  ...  12.2875    NaN         S        0\n",
       "\n",
       "[5 rows x 12 columns]"
      ]
     },
     "execution_count": 278,
     "metadata": {},
     "output_type": "execute_result"
    }
   ],
   "source": [
    "df_test.head()"
   ]
  },
  {
   "cell_type": "code",
   "execution_count": 279,
   "id": "0ee66757",
   "metadata": {},
   "outputs": [],
   "source": [
    "final_df = df_test.filter(['PassengerId','Survived'],axis = 1,)"
   ]
  },
  {
   "cell_type": "code",
   "execution_count": 280,
   "id": "0e69e658",
   "metadata": {},
   "outputs": [
    {
     "data": {
      "text/plain": [
       "(418, 2)"
      ]
     },
     "execution_count": 280,
     "metadata": {},
     "output_type": "execute_result"
    }
   ],
   "source": [
    "final_df.shape"
   ]
  },
  {
   "cell_type": "code",
   "execution_count": 281,
   "id": "bfe7c0fd",
   "metadata": {},
   "outputs": [
    {
     "data": {
      "text/html": [
       "<div>\n",
       "<style scoped>\n",
       "    .dataframe tbody tr th:only-of-type {\n",
       "        vertical-align: middle;\n",
       "    }\n",
       "\n",
       "    .dataframe tbody tr th {\n",
       "        vertical-align: top;\n",
       "    }\n",
       "\n",
       "    .dataframe thead th {\n",
       "        text-align: right;\n",
       "    }\n",
       "</style>\n",
       "<table border=\"1\" class=\"dataframe\">\n",
       "  <thead>\n",
       "    <tr style=\"text-align: right;\">\n",
       "      <th></th>\n",
       "      <th>PassengerId</th>\n",
       "      <th>Survived</th>\n",
       "    </tr>\n",
       "  </thead>\n",
       "  <tbody>\n",
       "    <tr>\n",
       "      <th>0</th>\n",
       "      <td>892</td>\n",
       "      <td>0</td>\n",
       "    </tr>\n",
       "    <tr>\n",
       "      <th>1</th>\n",
       "      <td>893</td>\n",
       "      <td>0</td>\n",
       "    </tr>\n",
       "    <tr>\n",
       "      <th>2</th>\n",
       "      <td>894</td>\n",
       "      <td>0</td>\n",
       "    </tr>\n",
       "    <tr>\n",
       "      <th>3</th>\n",
       "      <td>895</td>\n",
       "      <td>0</td>\n",
       "    </tr>\n",
       "    <tr>\n",
       "      <th>4</th>\n",
       "      <td>896</td>\n",
       "      <td>0</td>\n",
       "    </tr>\n",
       "    <tr>\n",
       "      <th>...</th>\n",
       "      <td>...</td>\n",
       "      <td>...</td>\n",
       "    </tr>\n",
       "    <tr>\n",
       "      <th>413</th>\n",
       "      <td>1305</td>\n",
       "      <td>0</td>\n",
       "    </tr>\n",
       "    <tr>\n",
       "      <th>414</th>\n",
       "      <td>1306</td>\n",
       "      <td>1</td>\n",
       "    </tr>\n",
       "    <tr>\n",
       "      <th>415</th>\n",
       "      <td>1307</td>\n",
       "      <td>0</td>\n",
       "    </tr>\n",
       "    <tr>\n",
       "      <th>416</th>\n",
       "      <td>1308</td>\n",
       "      <td>0</td>\n",
       "    </tr>\n",
       "    <tr>\n",
       "      <th>417</th>\n",
       "      <td>1309</td>\n",
       "      <td>0</td>\n",
       "    </tr>\n",
       "  </tbody>\n",
       "</table>\n",
       "<p>418 rows × 2 columns</p>\n",
       "</div>"
      ],
      "text/plain": [
       "     PassengerId  Survived\n",
       "0            892         0\n",
       "1            893         0\n",
       "2            894         0\n",
       "3            895         0\n",
       "4            896         0\n",
       "..           ...       ...\n",
       "413         1305         0\n",
       "414         1306         1\n",
       "415         1307         0\n",
       "416         1308         0\n",
       "417         1309         0\n",
       "\n",
       "[418 rows x 2 columns]"
      ]
     },
     "execution_count": 281,
     "metadata": {},
     "output_type": "execute_result"
    }
   ],
   "source": [
    "final_df"
   ]
  },
  {
   "cell_type": "code",
   "execution_count": 282,
   "id": "59cc424b",
   "metadata": {},
   "outputs": [
    {
     "data": {
      "text/plain": [
       "0    320\n",
       "1     98\n",
       "Name: Survived, dtype: int64"
      ]
     },
     "execution_count": 282,
     "metadata": {},
     "output_type": "execute_result"
    }
   ],
   "source": [
    "final_df['Survived'].value_counts()"
   ]
  },
  {
   "cell_type": "code",
   "execution_count": 283,
   "id": "7cb4c254",
   "metadata": {},
   "outputs": [],
   "source": [
    "# exporting prediction as csv\n",
    "\n",
    "final_df.to_csv('titanic_pred1.csv')"
   ]
  },
  {
   "cell_type": "code",
   "execution_count": null,
   "id": "59b206b0",
   "metadata": {},
   "outputs": [],
   "source": []
  }
 ],
 "metadata": {
  "kernelspec": {
   "display_name": "Python 3 (ipykernel)",
   "language": "python",
   "name": "python3"
  },
  "language_info": {
   "codemirror_mode": {
    "name": "ipython",
    "version": 3
   },
   "file_extension": ".py",
   "mimetype": "text/x-python",
   "name": "python",
   "nbconvert_exporter": "python",
   "pygments_lexer": "ipython3",
   "version": "3.11.3"
  }
 },
 "nbformat": 4,
 "nbformat_minor": 5
}
